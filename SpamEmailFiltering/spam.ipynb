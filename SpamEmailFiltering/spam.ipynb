{
 "cells": [
  {
   "cell_type": "code",
   "execution_count": 3,
   "metadata": {},
   "outputs": [
    {
     "name": "stdout",
     "output_type": "stream",
     "text": [
      "Detected encoding: Windows-1252\n"
     ]
    }
   ],
   "source": [
    "import chardet\n",
    "\n",
    "file_path = 'spam.csv'\n",
    "\n",
    "# Detect encoding\n",
    "with open(file_path, 'rb') as f:\n",
    "    raw_data = f.read()\n",
    "\n",
    "result = chardet.detect(raw_data)\n",
    "encoding = result['encoding']\n",
    "print(f\"Detected encoding: {encoding}\")\n"
   ]
  },
  {
   "cell_type": "code",
   "execution_count": 4,
   "metadata": {},
   "outputs": [
    {
     "name": "stdout",
     "output_type": "stream",
     "text": [
      "     v1                                                 v2 Unnamed: 2   \n",
      "0   ham  Go until jurong point, crazy.. Available only ...        NaN  \\\n",
      "1   ham                      Ok lar... Joking wif u oni...        NaN   \n",
      "2  spam  Free entry in 2 a wkly comp to win FA Cup fina...        NaN   \n",
      "3   ham  U dun say so early hor... U c already then say...        NaN   \n",
      "4   ham  Nah I don't think he goes to usf, he lives aro...        NaN   \n",
      "\n",
      "  Unnamed: 3 Unnamed: 4  \n",
      "0        NaN        NaN  \n",
      "1        NaN        NaN  \n",
      "2        NaN        NaN  \n",
      "3        NaN        NaN  \n",
      "4        NaN        NaN  \n"
     ]
    }
   ],
   "source": [
    "import pandas as pd\n",
    "\n",
    "file_path = 'spam.csv'\n",
    "\n",
    "# Read the CSV file with the detected encoding\n",
    "try:\n",
    "    df = pd.read_csv(file_path, encoding=encoding)\n",
    "    print(df.head())\n",
    "except UnicodeDecodeError as e:\n",
    "    print(f\"UnicodeDecodeError: {e}\")\n"
   ]
  },
  {
   "cell_type": "code",
   "execution_count": 6,
   "metadata": {},
   "outputs": [
    {
     "name": "stdout",
     "output_type": "stream",
     "text": [
      "Detected encoding: Windows-1252\n",
      "     v1                                                 v2 Unnamed: 2   \n",
      "0   ham  Go until jurong point, crazy.. Available only ...        NaN  \\\n",
      "1   ham                      Ok lar... Joking wif u oni...        NaN   \n",
      "2  spam  Free entry in 2 a wkly comp to win FA Cup fina...        NaN   \n",
      "3   ham  U dun say so early hor... U c already then say...        NaN   \n",
      "4   ham  Nah I don't think he goes to usf, he lives aro...        NaN   \n",
      "\n",
      "  Unnamed: 3 Unnamed: 4  \n",
      "0        NaN        NaN  \n",
      "1        NaN        NaN  \n",
      "2        NaN        NaN  \n",
      "3        NaN        NaN  \n",
      "4        NaN        NaN  \n"
     ]
    }
   ],
   "source": [
    "import pandas as pd\n",
    "import chardet\n",
    "\n",
    "file_path = 'spam.csv'\n",
    "\n",
    "# Step 1: Detect the file encoding\n",
    "with open(file_path, 'rb') as f:\n",
    "    raw_data = f.read()\n",
    "\n",
    "result = chardet.detect(raw_data)\n",
    "encoding = result['encoding']\n",
    "print(f\"Detected encoding: {encoding}\")\n",
    "\n",
    "# Step 2: Read the CSV file with the detected encoding and handle errors\n",
    "try:\n",
    "    # Read the CSV file with the detected encoding\n",
    "    df = pd.read_csv(file_path, encoding=encoding, on_bad_lines='skip')\n",
    "    print(df.head())\n",
    "except UnicodeDecodeError as e:\n",
    "    print(f\"UnicodeDecodeError: {e}\")\n",
    "    print(\"Handling the error by ignoring or replacing problematic characters.\")\n",
    "\n",
    "    # Option 1: Ignore errors\n",
    "    df = pd.read_csv(file_path, encoding=encoding, errors='ignore', on_bad_lines='skip')\n",
    "\n",
    "    # Option 2: Replace problematic characters\n",
    "    # df = pd.read_csv(file_path, encoding=encoding, errors='replace', on_bad_lines='skip')\n",
    "\n",
    "    print(df.head())\n",
    "\n"
   ]
  }
 ],
 "metadata": {
  "kernelspec": {
   "display_name": "Python 3",
   "language": "python",
   "name": "python3"
  },
  "language_info": {
   "codemirror_mode": {
    "name": "ipython",
    "version": 3
   },
   "file_extension": ".py",
   "mimetype": "text/x-python",
   "name": "python",
   "nbconvert_exporter": "python",
   "pygments_lexer": "ipython3",
   "version": "3.9.0"
  }
 },
 "nbformat": 4,
 "nbformat_minor": 2
}
